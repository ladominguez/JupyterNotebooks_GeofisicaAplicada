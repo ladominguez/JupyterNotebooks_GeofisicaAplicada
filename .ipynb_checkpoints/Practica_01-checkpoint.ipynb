{
 "cells": [
  {
   "cell_type": "markdown",
   "id": "6d1a09b2",
   "metadata": {},
   "source": [
    "![cover](./img/cover.png)\n",
    "# Misión\n",
    "En este ejercicio veremos como hacer algunos cálculos de trayectoria de propagación y cálculo de coeficiente de transmición y reflección utilizando la librería Pyrocko.\n",
    "## Instalación\n",
    "Para instalar Pyrocko sigue los siguientes pasos. Estas instrucciones funcionan bien en Mac y Linux, posiblemente requieras de algunos otros pasos adicionales si usas Windows. Las instrucciones para Windows las puedes encontrar en la página oficial de Pyrocko:\n",
    "\n",
    "https://pyrocko.org/docs/current/install/system/windows.html\n",
    "\n",
    "1. Crea un ambiente de conda para evitar conflictos con otros ambientes de python que tengas instalados. En esta configuración vamos a incluir el Jupyter para visualizar este cuaderno.\n",
    "```bash\n",
    "conda create -n pyrocko-env python=3.10\n",
    "conda activate pyrocko-env\n",
    "conda config --add channels conda-forge\n",
    "conda install numpy scipy matplotlib obspy fftw proj geos\n",
    "conda install -c pyrocko -c conda-forge pyrocko\n",
    "conda install jupyter\n",
    "python -m ipykernel install --user --name pyrocko-env --display-name \"Pyrocko\"\n",
    "```\n",
    "2. Para inicializar el cuaderno de Jupyter, usa la terminal para acceder al cuaderno donde vas a trabajar, y escribe.\n",
    "```bash\n",
    "jupyter notebook\n",
    "```\n",
    "Se abrirá una página de tu navegador dónde veras los archivos que se encuentran en ese directorio. Da click en el archivo llamado `Practica_01.ipynb`.\n",
    "\n",
    "Puedes usar ChatGPT o DeepSeek para resolver dudas sobre la instalación.\n",
    "\n",
    "En la siguiente celda simplemente vamos a cargar las librerias de Pyrocko. "
   ]
  },
  {
   "cell_type": "code",
   "execution_count": 35,
   "id": "929b2178",
   "metadata": {},
   "outputs": [],
   "source": [
    "from pyrocko import cake\n",
    "import numpy as np\n"
   ]
  },
  {
   "cell_type": "markdown",
   "id": "75534679",
   "metadata": {},
   "source": [
    "Existe varios modelos de velocidad de la Tierra desarrollados por diferentes grupos. En la terminal los pudes listar con el comando `cake list-models`:\n",
    "```bash\n",
    "cake list-models\n",
    "ak135-f-average-no-ocean.f\n",
    "ak135-f-average-no-ocean.l\n",
    "ak135-f-average-no-ocean.m\n",
    "ak135-f-average.f\n",
    "ak135-f-average.l\n",
    "ak135-f-average.m\n",
    "ak135-f-average.vf\n",
    "ak135-f-continental.f\n",
    "ak135-f-continental.l\n",
    "ak135-f-continental.m\n",
    "prem-no-ocean.f\n",
    "prem-no-ocean.l\n",
    "prem-no-ocean.m\n",
    "prem.f\n",
    "prem.l\n",
    "prem.m\n",
    "```\n",
    "A continuación vamos a elegir uno de ellos para calcular los arribos de ondas P y S. "
   ]
  },
  {
   "cell_type": "code",
   "execution_count": 37,
   "id": "3b64c7d7",
   "metadata": {},
   "outputs": [],
   "source": [
    "km = 1000.\n",
    "\n",
    "# Load builtin 'prem-no-ocean' model (medium resolution)\n",
    "model = cake.load_model('prem-no-ocean.m')\n"
   ]
  },
  {
   "cell_type": "markdown",
   "id": "b97dfc53",
   "metadata": {},
   "source": [
    "A continuación vamos a definir algunas fases. Por ejemplo, en la documentación puedes entrar una fase como esta\n",
    "\n",
    "``` bash\n",
    "y_crazy_phase = PhaseDef('pPv(moho)sP\\\\')\n",
    "\n",
    "print my_crazy_phase\n",
    "Phase definition \"pPv(moho)sP\":\n",
    " - P mode propagation, departing upward\n",
    " - surface reflection\n",
    " - P mode propagation, departing downward\n",
    " - upperside reflection with conversion from P to S at moho\n",
    " - S mode propagation, departing upward\n",
    " - surface reflection with conversion from S to P\n",
    " - P mode propagation, departing downward\n",
    " - arriving at target from above```\n",
    " \n",
    " Sin embargo, empecemos con algo sencillo, como una onda P o S. \n",
    " \n",
    " En la siguiente celda puedes intentar diferentes casos:"
   ]
  },
  {
   "cell_type": "code",
   "execution_count": 53,
   "id": "36e08ac2",
   "metadata": {},
   "outputs": [
    {
     "name": "stdout",
     "output_type": "stream",
     "text": [
      "Phase definition \"P\":\n",
      " - P mode propagation, departing downward\n",
      " - arriving at target from below\n"
     ]
    }
   ],
   "source": [
    "Phase = cake.PhaseDef('P')\n",
    "print(Phase)\n"
   ]
  },
  {
   "cell_type": "markdown",
   "id": "6cea961b",
   "metadata": {},
   "source": [
    "En la siguiente celda vamos a calcular los tiempos de arribo. "
   ]
  },
  {
   "cell_type": "code",
   "execution_count": 63,
   "id": "5ec316f2",
   "metadata": {},
   "outputs": [
    {
     "name": "stdout",
     "output_type": "stream",
     "text": [
      "distancia [km]   tiempo [s]\n",
      "    425.00          54.76\n",
      "    500.00          63.96\n"
     ]
    }
   ],
   "source": [
    "# Profundidad de la fuente [m].\n",
    "source_depth = 30. * km\n",
    "\n",
    "# Distancias as a numpy array [deg].\n",
    "# num.linspace(distancia_inicial, distancia_final, no. de puntos)\n",
    "distances = num.linspace(200, 500, 5)*km * cake.m2d\n",
    "\n",
    "\n",
    "# calculate distances and arrivals and print them:\n",
    "print('distancia [km]   tiempo [s]')\n",
    "for arrival in model.arrivals(distances, phases=Phase, zstart=source_depth):\n",
    "    print('%10.2f     %10.2f' % (arrival.x*cake.d2m/km, arrival.t))"
   ]
  },
  {
   "cell_type": "markdown",
   "id": "3ccb4045",
   "metadata": {},
   "source": [
    "# Pregunta 1. \n",
    "Mediante prueba a error, calcula a que distancia en kilómetrods llegaría una onda P y una S despúes de **15 minutos** si la fuente esta localizada a **20km** de profundidad. Antes de intentar resolver el ejercicio escribe en la siguiente celda cuanto kilómetros crees que recorre una onda **P** en **15 minutos. Nota: No hay respuesta correcta o incorrecta.**\n"
   ]
  },
  {
   "cell_type": "markdown",
   "id": "c6d97179",
   "metadata": {},
   "source": [
    "Tiempo de viaje de la onda P (estimado):_______________ segundos "
   ]
  },
  {
   "cell_type": "markdown",
   "id": "51aae8c6",
   "metadata": {},
   "source": [
    "Despúes de haber realizado el cálculo escribe cuales son los tiempos de viaje que obtuviste para la **onda P** y la **onda S**, escribe entre parentesis el porcentaje de la circunferencia de la Tierra que recorrió, 50% equivale a 1/2 vuelta al mundo:\n",
    "\n",
    "Tiempo de viaje de la onda P (calculado): _________ segundos, (____)% circunferencia de la Tierra.\n",
    "\n",
    "Tiempo de viaje de la onda S (calculado): _________ segundos, (____)% circunferencia de la Tierra."
   ]
  },
  {
   "cell_type": "markdown",
   "id": "ba9218c2",
   "metadata": {},
   "source": [
    "# Matriz de esparcimiento\n",
    "Como vimos en clase la matriz de espacimiento (*scattering matriz*) permite obtener los coeficientes de reflexión y refracción en la interfaz entre capas. Para calcularla primero debemos de definir un material. Para ellos vamos a utilizar las subrutinas `cake.Material`. Si corres la siguiente línea sin argumentos obtendrás los valores típicos de la corteza:\n",
    "```python\n",
    "cake.Material()\n",
    "Material(vp=5800.0, vs=3348.6315612998296, rho=2600.0, qp=1349.9999999999998, qs=600.0)\n",
    "```\n",
    "Intenta cambiar alguno de estos parámetros a la vez y verás como se actualiza. A menos que determines un valor de coeficiente de Poisson diferente de 0.5, el programa asume que se trata de un medio de Poisson para calcular los demás valores. Por ejemplo, cambia la velocidad de la **onda S** a **10km/s**,\n",
    "```python\n",
    "cake.Material(vs=10000)\n",
    "```\n",
    "en la siguiente celda. Confirma que la tasa entre la **onda S** y la **onda P**, es igual a sqrt(3). Te suguiero intentar cambiado otros valores. En un medio isotrópico únicamente existen dos parámetros elásticos independientes."
   ]
  },
  {
   "cell_type": "code",
   "execution_count": 65,
   "id": "543f64f9",
   "metadata": {},
   "outputs": [],
   "source": [
    "# Escribe tu código aquí:"
   ]
  },
  {
   "cell_type": "markdown",
   "id": "07c5ce5e",
   "metadata": {},
   "source": [
    "Para calcular los matriz de espacimiento para el caso de una onda P-SV vamos a suponer que el medio superior tiene los valores por default para la corteza, y que el medio inferior tiene una velocidad de **onda P**, **20% mayor** que el medio superior. Calcula la matriz de esparcimiento usando las funciones:\n",
    "```python\n",
    "cake.Material()\n",
    "cake.psv_solid()\n",
    "```\n",
    "La documentación de estas funciones las puedes encontrar aquí:\n",
    "https://pyrocko.org/docs/current/library/reference/pyrocko.cake.html#pyrocko.cake.PhaseDef"
   ]
  },
  {
   "cell_type": "code",
   "execution_count": null,
   "id": "a7a1db05",
   "metadata": {},
   "outputs": [],
   "source": [
    "# Escribe tu código aquí"
   ]
  },
  {
   "cell_type": "markdown",
   "id": "2fb19ca0",
   "metadata": {},
   "source": [
    "Pyrocko te permite visualizar fácilmente los trayectorias de propagación utilizando CLI (Command Line Interphase). Los comando a continuación no corren dentro de este cuaderno de Jupyter, correlos directamente en la terminal:\n",
    "``` bash\n",
    "cake plot-rays --crust2loc=45,10 --phases=P,p --sdepth=10 --distances=100:1000:10\n",
    "```\n",
    "Al correr este comando obtendras las trayectorias para el modelo de velocidades Curst2.0 para las **ondas P y p** para una fuente localizada a una latitud de **45 grados** y una **longitud de 10 grados** a **10km de profundidad**. En este caso vamos a colocar **10 receptores (sensores)** entre **100 y 1000 km** de distancia. Al correrlo obtendrás la siguiente gráfica. \n",
    "![Cake model](./img/cake_model.png)"
   ]
  },
  {
   "cell_type": "markdown",
   "id": "f20ab5fe",
   "metadata": {},
   "source": [
    "# Ejercicio 1\n",
    "Calcula las trayectorias de propagacción para los siguientes casos. \n",
    "\n",
    "1. Para las ondas P y S para un sismo que ocurre en medio del oceáno Pacífico. \n",
    "2. Las ondas p,P y s,S para un sismo que ocurre en cratón (ejemplo, Brasil, Canada, Rusia).\n",
    "3. Para un sismos en un lugar que tu eligas (indicalo en tu respuesta) con profundidades de 10 y 100 km. \n",
    "\n",
    "Para incluir tus imágenes en el cuaderno de Jupyter guardalas con el nombre que prefieras (ejemplo, *figura1.png, figura2.png, figura3.png*) y ultiliza el siguiente comando en la próxima celda. \n",
    "\n",
    "```markdown\n",
    "![caption](figura1.png)\n",
    "![caption](figura2.png)\n",
    "![caption](figura3.png)\n",
    "```\n",
    "Puedes sustituir la palabra caption por cualquier otro texto."
   ]
  },
  {
   "cell_type": "markdown",
   "id": "5a0fe7b5",
   "metadata": {},
   "source": []
  }
 ],
 "metadata": {
  "kernelspec": {
   "display_name": "Pyrocko_",
   "language": "python",
   "name": "pyrocko-env"
  },
  "language_info": {
   "codemirror_mode": {
    "name": "ipython",
    "version": 3
   },
   "file_extension": ".py",
   "mimetype": "text/x-python",
   "name": "python",
   "nbconvert_exporter": "python",
   "pygments_lexer": "ipython3",
   "version": "3.10.15"
  }
 },
 "nbformat": 4,
 "nbformat_minor": 5
}
